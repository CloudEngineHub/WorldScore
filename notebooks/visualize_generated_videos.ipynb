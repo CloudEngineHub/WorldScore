{
 "cells": [
  {
   "cell_type": "markdown",
   "metadata": {
    "vscode": {
     "languageId": "plaintext"
    }
   },
   "source": [
    "# Visualize Generated Videos\n",
    "\n",
    "This notebook provides some utilites to visualize the generated videos along with their prompts. "
   ]
  },
  {
   "cell_type": "code",
   "execution_count": null,
   "metadata": {},
   "outputs": [],
   "source": [
    "import json\n",
    "import os\n",
    "import random\n",
    "from pathlib import Path\n",
    "\n",
    "import mediapy\n",
    "from dotenv import load_dotenv\n",
    "\n",
    "# Load the environment variables\n",
    "load_dotenv()\n",
    "MODEL_ROOT = Path(os.getenv(\"MODEL_PATH\"))\n",
    "DATA_ROOT = Path(os.getenv(\"DATA_PATH\"))\n",
    "\n",
    "\n",
    "def visualize_video(frame_paths: list[Path], **kwargs):\n",
    "    images = [mediapy.read_image(frame_path) for frame_path in sorted(frame_paths)]\n",
    "    mediapy.show_video(images, **kwargs)\n",
    "\n",
    "def visualize_instance(\n",
    "    model_name: str,\n",
    "    motion: str | None = None,\n",
    "    visual_style: str | None = None,\n",
    "    scene_type: str | None = None,\n",
    "    layout: str | None = None,\n",
    "    instance_id: str | None = None,\n",
    "):\n",
    "\n",
    "    result_dir = MODEL_ROOT / model_name / \"worldscore_output\"\n",
    "\n",
    "    # Iterate over different levels of result categorization. Order matters.\n",
    "    for _type in [motion, visual_style, scene_type, layout, instance_id]:\n",
    "        possible_options = [x.name for x in result_dir.iterdir()]\n",
    "        if _type is None:\n",
    "            _type = random.choice(possible_options)\n",
    "        elif _type not in possible_options:\n",
    "            raise ValueError(f\"Option {_type} not in {possible_options}\")\n",
    "        \n",
    "        result_dir = result_dir / _type\n",
    "    \n",
    "    \n",
    "    # Load camera data\n",
    "    with open(result_dir / \"image_data.json\") as json_f:\n",
    "        data_dict = json.load(json_f)\n",
    "\n",
    "    if \"image\" in data_dict:\n",
    "        prompt_image_path = DATA_ROOT / data_dict[\"image\"]\n",
    "        prompt_image = mediapy.read_image(prompt_image_path)\n",
    "        mediapy.show_image(prompt_image, title=data_dict[\"image\"], height=512)\n",
    "\n",
    "    frames = sorted([x for x in result_dir.glob(\"frames/*.png\")])\n",
    "    visualize_video(frames, loop=False, height=512, fps=)\n",
    "\n",
    "    print(\"---- Prompt Options ----\")\n",
    "    for key, value in data_dict.items():\n",
    "        print(f\"{key}: {value}\")"
   ]
  },
  {
   "cell_type": "code",
   "execution_count": null,
   "metadata": {},
   "outputs": [],
   "source": [
    "visualize_instance(model_name=\"VideoCrafter1_t2v\", motion=\"static\", visual_style=\"photorealistic\", scene_type=\"indoor\", layout=\"dining_spaces\", instance_id=\"043\")"
   ]
  }
 ],
 "metadata": {
  "kernelspec": {
   "display_name": "cogvideo",
   "language": "python",
   "name": "python3"
  },
  "language_info": {
   "codemirror_mode": {
    "name": "ipython",
    "version": 3
   },
   "file_extension": ".py",
   "mimetype": "text/x-python",
   "name": "python",
   "nbconvert_exporter": "python",
   "pygments_lexer": "ipython3",
   "version": "3.10.13"
  }
 },
 "nbformat": 4,
 "nbformat_minor": 2
}
